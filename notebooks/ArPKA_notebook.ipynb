{
 "cells": [
  {
   "cell_type": "code",
   "execution_count": 1,
   "metadata": {},
   "outputs": [],
   "source": [
    "import networkx as nx\n",
    "import dill as pickle"
   ]
  },
  {
   "cell_type": "code",
   "execution_count": 2,
   "metadata": {},
   "outputs": [],
   "source": [
    "with open(\"colon_cancer_knowledge_base/title_keyword_edges.pkl\", \"rb\") as f:\n",
    "    title_keyword_edges = pickle.load(f)\n",
    "with open(\"colon_cancer_knowledge_base/title_keyword_vertices.pkl\", \"rb\") as f:\n",
    "    title_keyword_vertices = pickle.load(f)\n",
    "\n",
    "with open(\"colon_cancer_knowledge_base/paper_vertices.pkl\", \"rb\") as f:\n",
    "    paper_vertices = pickle.load(f)"
   ]
  },
  {
   "cell_type": "code",
   "execution_count": 3,
   "metadata": {},
   "outputs": [],
   "source": [
    "from networkx.algorithms import bipartite"
   ]
  },
  {
   "cell_type": "code",
   "execution_count": 4,
   "metadata": {},
   "outputs": [],
   "source": [
    "paper_node_list = []\n",
    "for k, v in paper_vertices.items():\n",
    "    paper_node_list.append((k,v))\n",
    "    "
   ]
  },
  {
   "cell_type": "code",
   "execution_count": 5,
   "metadata": {},
   "outputs": [],
   "source": [
    "title_keyword_node_list = []\n",
    "counter = 0\n",
    "for k,v in title_keyword_vertices.items():\n",
    "    title_keyword_node_list.append((k,v))"
   ]
  },
  {
   "cell_type": "code",
   "execution_count": 28,
   "metadata": {},
   "outputs": [],
   "source": [
    "edge_list = []\n",
    "for k,v in title_keyword_edges.items():\n",
    "        edge_list.append((k[0], k[1],{\"weight\" :list(v.keys())[0]}))"
   ]
  },
  {
   "cell_type": "code",
   "execution_count": 30,
   "metadata": {},
   "outputs": [],
   "source": [
    "BG = nx.Graph()\n",
    "BG.add_nodes_from(paper_node_list, bipartite = 0)\n",
    "BG.add_nodes_from(title_keyword_node_list, bipartite = 1)\n",
    "BG.add_edges_from(edge_list)"
   ]
  },
  {
   "cell_type": "code",
   "execution_count": 33,
   "metadata": {},
   "outputs": [],
   "source": [
    "import matplotlib.pyplot as plt"
   ]
  },
  {
   "cell_type": "code",
   "execution_count": 34,
   "metadata": {},
   "outputs": [],
   "source": [
    "nx.draw_kamada_kawai(BG)"
   ]
  },
  {
   "cell_type": "code",
   "execution_count": null,
   "metadata": {},
   "outputs": [],
   "source": []
  },
  {
   "cell_type": "code",
   "execution_count": null,
   "metadata": {},
   "outputs": [],
   "source": [
    "import spacy"
   ]
  }
 ],
 "metadata": {
  "interpreter": {
   "hash": "3a84e8ecf7c0551919ffa5f2ac088c18eb38e29cfa06c3e87bedf52441ab1712"
  },
  "kernelspec": {
   "display_name": "Python 3.8.3 64-bit ('base': conda)",
   "language": "python",
   "name": "python3"
  },
  "language_info": {
   "codemirror_mode": {
    "name": "ipython",
    "version": 3
   },
   "file_extension": ".py",
   "mimetype": "text/x-python",
   "name": "python",
   "nbconvert_exporter": "python",
   "pygments_lexer": "ipython3",
   "version": "3.8.3"
  },
  "orig_nbformat": 4
 },
 "nbformat": 4,
 "nbformat_minor": 2
}
