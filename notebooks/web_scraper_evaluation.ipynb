{
 "cells": [
  {
   "cell_type": "code",
   "execution_count": 1,
   "metadata": {},
   "outputs": [],
   "source": [
    "import pandas as pd\n",
    "import website_parser"
   ]
  },
  {
   "cell_type": "code",
   "execution_count": 2,
   "metadata": {},
   "outputs": [],
   "source": [
    "df = pd.read_csv(\"colon_cancer_news_articles/article_urls.csv\", header = 0)"
   ]
  },
  {
   "cell_type": "code",
   "execution_count": 3,
   "metadata": {},
   "outputs": [],
   "source": [
    "import numpy as np"
   ]
  },
  {
   "cell_type": "code",
   "execution_count": 4,
   "metadata": {},
   "outputs": [],
   "source": [
    "import json\n",
    "from fuzzywuzzy import fuzz"
   ]
  },
  {
   "cell_type": "code",
   "execution_count": 6,
   "metadata": {},
   "outputs": [
    {
     "data": {
      "text/plain": [
       "{'error': '404 Page not found - That is not a valid url'}"
      ]
     },
     "execution_count": 6,
     "metadata": {},
     "output_type": "execute_result"
    }
   ],
   "source": [
    "payload"
   ]
  },
  {
   "cell_type": "code",
   "execution_count": 7,
   "metadata": {},
   "outputs": [
    {
     "name": "stdout",
     "output_type": "stream",
     "text": [
      "https://timesofindia.indiatimes.com/life-style/health-fitness/health-news/colon-cancer-or-bowel-cancer-know-the-early-symptoms-for-timely-intervention/photostory/89252113.cms 94 92\n",
      "https://www.pharmacytimes.com/view/study-weight-loss-reduces-risk-of-growths-linked-to-colorectal-cancer 95 100\n",
      "<meta data-rh=\"true\" property=\"og:description\"/>\n",
      "https://www.usnews.com/news/health-news/articles/2022-01-31/late-stage-colon-cancers-increasing-among-young-americans 93 99\n",
      "https://nyulangone.org/news/genetic-lifestyle-calculator-reveals-which-younger-adults-are-most-risk-colorectal-cancer 98 99\n",
      "https://eu.usatoday.com/story/news/health/2022/01/27/colon-cancer-more-younger-adults-study/9237429002/ 99 99\n",
      "https://www.upi.com/Health_News/2022/02/01/colon-cancers-young-Americans/5161643655656/ 96 98\n",
      "https://www.health.com/condition/colorectal-cancer/late-stage-colorectal-cancer-young-adults-rise 96 98\n",
      "https://abcnews.go.com/Health/young-people-colon-cancer-high-rates-doctors-highlight/story?id=82468484 98 99\n",
      "https://eu.detroitnews.com/story/life/advice/2022/02/01/keith-roach-balance-age-family-history-colon-cancer-screening/49746735/ 99 99\n",
      "https://www.upi.com/Health_News/2022/02/01/obese-colon-polyps-risk-study/7821643722449/ 97 98\n"
     ]
    },
    {
     "name": "stderr",
     "output_type": "stream",
     "text": [
      "C:\\Users\\Colmj\\anaconda3\\lib\\site-packages\\dateparser\\date_parser.py:35: PytzUsageWarning: The localize method is no longer necessary, as this time zone supports the fold attribute (PEP 495). For more details on migrating to a PEP 495-compliant implementation, see https://pytz-deprecation-shim.readthedocs.io/en/latest/migration.html\n",
      "  date_obj = stz.localize(date_obj)\n"
     ]
    },
    {
     "name": "stdout",
     "output_type": "stream",
     "text": [
      "https://www.medicinenet.com/script/main/art.asp?articlekey=270639 96 99\n",
      "https://www.bbc.com/news/health-60216285 99 99\n",
      "https://www.verywellhealth.com/ulcerative-colitis-and-colon-cancer-5204560 85 98\n",
      "https://www.digitalcameraworld.com/news/2000-patients-screened-for-bowel-cancer-with-pillcam-the-camera-you-swallow 91 92\n",
      "https://telanganatoday.com/world-cancer-day-2022-how-a-fibre-rich-diet-can-help-prevent-colon-cancer 98 97\n",
      "https://www.cbsnews.com/news/chemotherapy-care-box-cancer-patients-fighting-with-hope-emily-king/ 95 99\n",
      "https://www.healthleadersmedia.com/clinical-care/screening-rates-breast-cervical-and-colon-cancer-remain-below-pre-pandemic-levels 96 97\n",
      "https://www.sandiegouniontribune.com/news/health/story/2022-01-25/treat-colon-cancer-screening-as-if-your-life-depends-on-it-it-just-might 99 99\n",
      "https://abc7chicago.com/signs-of-colon-cancer-screening-symptoms-american-society/11469623/ 68 94\n",
      "https://www.eatthis.com/news-major-sign-cancer-doctor/ 96 94\n",
      "https://www.foxnews.com/health/distant-stage-colon-cancer-younger-adults 97 97\n",
      "https://www.healio.com/news/hematology-oncology/20220128/weight-loss-during-systemic-therapy-linked-to-shorter-survival-in-colorectal-cancer 86 97\n",
      "https://www.news18.com/news/lifestyle/uttarakhand-researchers-to-study-use-of-medicinal-herbs-for-treatment-of-colon-cancer-4730933.html 93 98\n",
      "https://www.dublinlive.ie/news/dublin-news/mater-hospital-perform-major-medical-22917193 92 97\n",
      "https://www.theguardian.com/society/2022/feb/03/cancer-england-survival-statistics-increases-nhs 96 96\n",
      "https://www.cancernetwork.com/view/american-cancer-society-report-sheds-light-on-cancer-statistics-and-racial-ethnic-disparities 99 99\n"
     ]
    }
   ],
   "source": [
    "precision = []\n",
    "recall = []\n",
    "\n",
    "for aN, uRL in zip(df.article_number, df.url):\n",
    "    if aN not in [0,10]:\n",
    "        wP = website_parser.WebsiteParser(uRL)\n",
    "        payload = json.loads(wP.get_payload())\n",
    "        with open(\"colon_cancer_news_articles/news_articles/{}.txt\".format(aN),encoding=\"utf-8\") as f:\n",
    "            doc = f.read()\n",
    "        ptemp = fuzz.ratio(\" \".join(payload[\"sentence_map\"].values()),doc)\n",
    "        rtemp = fuzz.partial_ratio(\" \".join(payload[\"sentence_map\"].values()),doc)\n",
    "        print(uRL, ptemp , rtemp )\n",
    "        precision.append(ptemp)\n",
    "        recall.append(rtemp)\n",
    "        "
   ]
  },
  {
   "cell_type": "code",
   "execution_count": 8,
   "metadata": {},
   "outputs": [
    {
     "data": {
      "text/plain": [
       "0.9582020928509692"
      ]
     },
     "execution_count": 8,
     "metadata": {},
     "output_type": "execute_result"
    }
   ],
   "source": [
    "(2* (np.mean(precision) / 100)  * (np.mean(recall) / 100)) / ((np.mean(precision) / 100)  + (np.mean(recall) / 100))"
   ]
  },
  {
   "cell_type": "code",
   "execution_count": 10,
   "metadata": {},
   "outputs": [
    {
     "data": {
      "text/plain": [
       "94.26923076923077"
      ]
     },
     "execution_count": 10,
     "metadata": {},
     "output_type": "execute_result"
    }
   ],
   "source": [
    "np.mean(precision)\n"
   ]
  },
  {
   "cell_type": "code",
   "execution_count": 11,
   "metadata": {},
   "outputs": [
    {
     "data": {
      "text/plain": [
       "'{\"sentence_map\": {\"0.0\": \"CHICAGO (WLS) -- The American Cancer Society estimates that in 2022 more than 106,000 Americans will be diagnosed with colon cancer.\", \"1.0\": \"Nearly 45,000 others will be told they have rectal cancer.\", \"2.0\": \"The number of cases is down for older adults.\", \"2.1\": \"Dr. Sonia Kupfer, associate professor and director of GI cancer risk and prevention at University of Chicago Medicine says much of that\\'s likely due to screening.\", \"2.2\": \"But cases are on the rise for people under 50.\", \"3.0\": \"\\\\\"In fact, recently the U.S. Services Task Force reduced the age of screening in the general population to 45 (from 50) in response to that alarming trend,\\\\\" said Kupfer.\", \"4.0\": \"She said symptoms of colon cancer include blood in the stool, change in bowel habits, unexplained abdominal pain and unexplained weight loss.\", \"4.1\": \"Still, she pointed out that there are other reasons for those symptoms as well.\", \"4.2\": \"She urged people to get screened saying, \\\\\"colorectal cancer develops from pre-cancerous polyps and if we can get those polyps out, they have no chance of developing into colorectal cancer.\\\\\"\", \"4.3\": \"Kupfer pointed out that they are still performing colonoscopies during the pandemic, taking necessary safety precautions.\", \"5.0\": \"Candace Henley is a colon cancer survivor and the Chief Surviving Officer for The Blue Hat Foundation which works to raise awareness of colorectal cancer.\", \"6.0\": \"She said the cancer is not talked about it enough.\", \"6.1\": \"\\\\\"And the fact that by 2030 colon cancer in the age group of 20 to 49 is expected to be the leading cause of cancer deaths mean that we\\'re not talking about it enough.\", \"6.2\": \"And I\\'ve been advocating about this for 18 years since my own diagnosis.\\\\\"\", \"6.3\": \"Henley also urged people to have conversations with their family members about diseases that run in the family.\", \"6.4\": \"She said, \\\\\"family secrets kill families.\\\\\"\", \"6.5\": \"Henley said talking about these matters can save lives.\", \"7.0\": \"For more information:\", \"8.0\": \"https://www.cancer.org/cancer/colon-rectal-cancer.html\", \"9.0\": \"https://www.thebluehatfoundation.org/\", \"10.0\": \"And Henley is a patient advocate with:\", \"11.0\": \"https://optimisticc.org/\", \"12.0\": \"Nearly 45,000 others will be told they have rectal cancer.\", \"13.0\": \"The number of cases is down for older adults.\", \"13.1\": \"Dr. Sonia Kupfer, associate professor and director of GI cancer risk and prevention at University of Chicago Medicine says much of that\\'s likely due to screening.\", \"13.2\": \"But cases are on the rise for people under 50.\", \"14.0\": \"\\\\\"In fact, recently the U.S. Services Task Force reduced the age of screening in the general population to 45 (from 50) in response to that alarming trend,\\\\\" said Kupfer.\", \"15.0\": \"She said symptoms of colon cancer include blood in the stool, change in bowel habits, unexplained abdominal pain and unexplained weight loss.\", \"15.1\": \"Still, she pointed out that there are other reasons for those symptoms as well.\", \"15.2\": \"She urged people to get screened saying, \\\\\"colorectal cancer develops from pre-cancerous polyps and if we can get those polyps out, they have no chance of developing into colorectal cancer.\\\\\"\", \"15.3\": \"Kupfer pointed out that they are still performing colonoscopies during the pandemic, taking necessary safety precautions.\", \"16.0\": \"Candace Henley is a colon cancer survivor and the Chief Surviving Officer for The Blue Hat Foundation which works to raise awareness of colorectal cancer.\", \"17.0\": \"Our Chicago Part 2\", \"18.0\": \"She said the cancer is not talked about it enough.\", \"18.1\": \"\\\\\"And the fact that by 2030 colon cancer in the age group of 20 to 49 is expected to be the leading cause of cancer deaths mean that we\\'re not talking about it enough.\", \"18.2\": \"And I\\'ve been advocating about this for 18 years since my own diagnosis.\\\\\"\", \"18.3\": \"Henley also urged people to have conversations with their family members about diseases that run in the family.\", \"18.4\": \"She said, \\\\\"family secrets kill families.\\\\\"\", \"18.5\": \"Henley said talking about these matters can save lives.\", \"19.0\": \"For more information:\", \"20.0\": \"https://www.cancer.org/cancer/colon-rectal-cancer.html\", \"21.0\": \"https://www.thebluehatfoundation.org/\", \"22.0\": \"And Henley is a patient advocate with:\", \"23.0\": \"https://optimisticc.org/\"}, \"discarded_sentence_map\": {}, \"external_links\": [\"https://ouramericaabc.com/equity-report/chicago\", \"https://windycitylive.com\", \"https://www.cancer.org/cancer/colon-rectal-cancer.html\", \"https://www.thebluehatfoundation.org/\", \"https://optimisticc.org/\", \"https://windycitylive.com\", \"https://disneyprivacycenter.com/\", \"https://privacy.thewaltdisneycompany.com/en/dnsmi/\", \"https://disneyprivacycenter.com/kids-privacy-policy/english/\", \"https://disneyprivacycenter.com/notice-to-california-residents/\", \"https://disneytermsofuse.com/\", \"https://preferences.truste.com/2.0/?type=abc&affiliateId=115\", \"https://publicfiles.fcc.gov/tv-profile/wls-tv\", \"https://disneyprivacycenter.com/\", \"https://privacy.thewaltdisneycompany.com/en/dnsmi/\", \"https://disneyprivacycenter.com/kids-privacy-policy/english/\", \"https://disneyprivacycenter.com/notice-to-california-residents/\", \"https://disneytermsofuse.com/\", \"https://preferences.truste.com/2.0/?type=abc&affiliateId=115\", \"https://publicfiles.fcc.gov/tv-profile/wls-tv\"], \"social_links\": [\"https://facebook.com/abc7chicago\", \"https://twitter.com/abc7chicago\", \"https://www.instagram.com/abc7chicago/\", \"https://www.facebook.com/sharer.php?u=https%3A%2F%2Fabc7chicago.com%2Fsigns-of-colon-cancer-screening-symptoms-american-society%2F11469623%2F\", \"https://twitter.com/intent/tweet?url=https%3A//abc7chicago.com/signs-of-colon-cancer-screening-symptoms-american-society/11469623/&text=Our%20Chicago%3A%20Colon%20cancer%20survivor%20and%20researcher%20talk%20signs%2C%20symptoms%20and%20screenings&via=abc7chicago\", \"https://www.facebook.com/sharer.php?u=https%3A%2F%2Fabc7chicago.com%2Fhealth%2Four-chicago-what-you-need-to-know-about-colon-cancer%2F11469623%2F\", \"https://twitter.com/intent/tweet?url=https%3A//abc7chicago.com/health/our-chicago-what-you-need-to-know-about-colon-cancer/11469623/&text=Our%20Chicago%3A%20Colon%20cancer%20survivor%20and%20researcher%20talk%20signs%2C%20symptoms%20and%20screenings&via=abc7chicago\", \"https://www.facebook.com/sharer.php?u=https%3A%2F%2Fabc7chicago.com%2Fhealth%2Four-chicago-what-you-need-to-know-about-colon-cancer%2F11469623%2F\", \"https://twitter.com/intent/tweet?url=https%3A//abc7chicago.com/health/our-chicago-what-you-need-to-know-about-colon-cancer/11469623/&text=Our%20Chicago%3A%20Colon%20cancer%20survivor%20and%20researcher%20talk%20signs%2C%20symptoms%20and%20screenings&via=abc7chicago\", \"https://www.facebook.com/sharer.php?u=https%3A%2F%2Fabc7chicago.com%2Fhealth%2Four-chicago-what-you-need-to-know-about-colon-cancer%2F11469623%2F\", \"https://twitter.com/intent/tweet?url=https%3A//abc7chicago.com/health/our-chicago-what-you-need-to-know-about-colon-cancer/11469623/&text=Our%20Chicago%3A%20Colon%20cancer%20survivor%20and%20researcher%20talk%20signs%2C%20symptoms%20and%20screenings&via=abc7chicago\", \"https://facebook.com/abc7chicago\", \"https://twitter.com/abc7chicago\", \"https://www.instagram.com/abc7chicago/\"], \"bag_of_words\": \"\\\\n\\\\n\\\\n\\\\n\\\\nColon cancer survivor, University of Chicago Medicine professor talk signs, symptoms, screening and American Cancer Society - ABC7 Chicago\\\\n\\\\n\\\\n\\\\n\\\\n\\\\n\\\\n\\\\n\\\\n\\\\n\\\\n\\\\n\\\\n\\\\nWEATHER ALERTWinter Weather AdvisoryFull StoryWATCH VIDEOSChicago & Suburban Cook Co.North SuburbsWest SuburbsSouth SuburbsNW IndianaEDITLog InWatchAppsLocal News Chicago & Suburban Cook Co.North SuburbsWest SuburbsSouth SuburbsNW IndianaCategories WeatherTrafficLocal NewsU.S. & WorldI-TeamPoliticsEntertainmentConsumer & BusinessWeatherHealth and COVIDABC7 SportsEquity ReportLocalishRace and CultureChicago ProudStation Info About ABC7 ChicagoABC7 Newsteam BiosCommunity JournalismTV ListingsABC7 Jobs - InternshipsContests, Promotions & RulesCommunityshows ABC7 LIVE NewscastsWindy City WeekendOur ChicagoOur AmericaFollow Us:Welcome, Your AccountLog OutShareTweetEmailour chicagoOur Chicago: Colon cancer survivor and researcher talk signs, symptoms and screeningsWLSBy Kay Cesinger Share:ShareTweetEmailEMBED <>More Videos Our Chicago Part 1Share:ShareTweetEmailCHICAGO (WLS) -- The American Cancer Society estimates that in 2022 more than 106,000 Americans will be diagnosed with colon cancer.Nearly 45,000 others will be told they have rectal cancer.The number of cases is down for older adults. Dr. Sonia Kupfer, associate professor and director of GI cancer risk and prevention at University of Chicago Medicine says much of that\\'s likely due to screening. But cases are on the rise for people under 50.\\\\\"In fact, recently the U.S. Services Task Force reduced the age of screening in the general population to 45 (from 50) in response to that alarming trend,\\\\\" said Kupfer.She said symptoms of colon cancer include blood in the stool, change in bowel habits, unexplained abdominal pain and unexplained weight loss. Still, she pointed out that there are other reasons for those symptoms as well. She urged people to get screened saying, \\\\\"colorectal cancer develops from pre-cancerous polyps and if we can get those polyps out, they have no chance of developing into colorectal cancer.\\\\\" Kupfer pointed out that they are still performing colonoscopies during the pandemic, taking necessary safety precautions.Candace Henley is a colon cancer survivor and the Chief Surviving Officer for The Blue Hat Foundation which works to raise awareness of colorectal cancer.Our Chicago Part 2EMBED More News VideosCandace Henley, a colon cancer survivor and the chief surviving officer for the Blue Hat Foundation, talks screening.She said the cancer is not talked about it enough. \\\\\"And the fact that by 2030 colon cancer in the age group of 20 to 49 is expected to be the leading cause of cancer deaths mean that we\\'re not talking about it enough.  And I\\'ve been advocating about this for 18 years since my own diagnosis.\\\\\" Henley also urged people to have conversations with their family members about diseases that run in the family. She said, \\\\\"family secrets kill families.\\\\\" Henley said talking about these matters can save lives.For more information:https://www.cancer.org/cancer/colon-rectal-cancer.htmlhttps://www.thebluehatfoundation.org/And Henley is a patient advocate with:https://optimisticc.org/ \\\\nReport a correction or typo\\\\n \\\\nRelated topics:health & fitnesschicagoloophealthour chicagouniversity of chicagocancer carecancer deathhealth carecanceramerican cancer societyShare:ShareTweetEmailCopyright \\\\u00a9 2022 WLS-TV. All Rights Reserved.OUR CHICAGO Police deal with continuing crime in Chicago area ABC7 to celebrate Black History Month Our Chicago: Go Red For Women Can science slow down or reverse the aging process? TOP STORIES IL schools forced to decide on mask mandate after judge\\'s ruling   2 dead, 3 injured in Batavia crash Ald. Patrick Daley Thompson\\'s trial to begin Monday 5 tax changes that can boost your refund this year Teen visiting from Mexico missing, last seen at Midway Airport: family Family demands answers after pregnant woman dies in CPD custody  Frontier Airlines buying Spirit in $3B budget carrier deal Show More CDC releases new guidance for some to get additional booster shot Ottawa declares state of emergency over truck convoy protests Chicago Blackhawks fire longtime athletic trainer of minor league a... 18 rescued from Lake Erie ice floe Chicago Weather: Partly cloudy, colder Monday More TOP STORIES NewsHomeAccuWeatherTrafficLocal NewsChicago & Suburban Cook Co.North SuburbsWest SuburbsSouth SuburbsNW IndianaCategoriesWatchAppsLocal NewsU.S. & WorldI-TeamPoliticsEntertainmentConsumer & BusinessStation InfoAbout ABC7 ChicagoABC7 Newsteam BiosCommunity JournalismTV ListingsABC7 Jobs - InternshipsContests, Promotions & RulesCommunityShowsABC7 LIVE NewscastsWindy City WeekendOur ChicagoOur AmericaAppsFollow Us:HomeWeatherTrafficWatchPhotosAppsChicago & Suburban Cook Co.North SuburbsWest SuburbsSouth SuburbsNW IndianaLocal NewsU.S. & WorldI-TeamPoliticsEntertainmentConsumer & BusinessAbout ABC7 ChicagoABC7 Newsteam BiosCommunity JournalismTV ListingsABC7 Jobs - InternshipsContests, Promotions & RulesCommunityPrivacy PolicyDo Not Sell My Personal InformationChildren\\'s Privacy PolicyYour California Privacy RightsTerms of UseInterest-Based AdsPublic Inspection FileFCC ApplicationsPrivacy PolicyDo Not Sell My Personal InformationChildren\\'s Privacy PolicyYour California Privacy RightsTerms of UseInterest-Based AdsPublic Inspection FileFCC ApplicationsCopyright \\\\u00a9 2022 ABC, Inc., WLS-TV Chicago. All Rights Reserved.\\\\n\\\\n\\\\n\\\\n\\\\n\\\\n\\\\n\\\\n\\\\n\\\\n\\\\n\\\\n\\\\n\", \"article_slug\": \"signs of colon cancer screening symptoms american society 11469623\", \"metadata\": {\"site_name\": \"ABC7 Chicago\", \"url\": \"https://abc7chicago.com/signs-of-colon-cancer-screening-symptoms-american-society/11469623/\", \"title\": \"Our Chicago: Colon cancer survivor and researcher talk signs, symptoms and screenings\", \"description\": \"The American Cancer Society estimates that in 2022 more than 106,000 Americans will be diagnosed with colon cancer.\", \"content_type\": \"article\", \"published_time\": \"2022-01-16T16:56:10Z\", \"modified_time\": \"2022-01-16T16:56:11Z\", \"section\": \"health\", \"language_territory\": \"en_US\", \"experiation_time\": null, \"tags\": null, \"author\": null}}'"
      ]
     },
     "execution_count": 11,
     "metadata": {},
     "output_type": "execute_result"
    }
   ],
   "source": [
    "webPar = website_parser.WebsiteParser(\"https://abc7chicago.com/signs-of-colon-cancer-screening-symptoms-american-society/11469623/\")\n",
    "webPar.get_payload()"
   ]
  },
  {
   "cell_type": "code",
   "execution_count": 17,
   "metadata": {},
   "outputs": [
    {
     "name": "stdout",
     "output_type": "stream",
     "text": [
      "51 98\n",
      "97 98\n",
      "93 99\n",
      "92 93\n",
      "97 99\n",
      "91 88\n",
      "86 95\n",
      "86 90\n",
      "98 99\n",
      "59 98\n",
      "86 76\n",
      "50 61\n",
      "82 95\n",
      "75 77\n",
      "77 97\n",
      "99 99\n",
      "82 93\n",
      "25 96\n",
      "94 97\n",
      "12 71\n",
      "90 98\n",
      "85 85\n",
      "84 84\n",
      "89 93\n",
      "96 97\n",
      "94 94\n",
      "95 97\n"
     ]
    }
   ],
   "source": [
    "for p, r in zip(precision,recall):\n",
    "    print(p,r)"
   ]
  },
  {
   "cell_type": "code",
   "execution_count": 5,
   "metadata": {},
   "outputs": [],
   "source": [
    "import trafilatura\n",
    "import requests"
   ]
  },
  {
   "cell_type": "code",
   "execution_count": 6,
   "metadata": {},
   "outputs": [],
   "source": [
    "headers = {'User-Agent': 'Mozilla/5.0 (Windows NT 10.0; Win64; x64; rv:89.0) Gecko/20100101 Firefox/89.0'}"
   ]
  },
  {
   "cell_type": "code",
   "execution_count": 14,
   "metadata": {},
   "outputs": [
    {
     "name": "stdout",
     "output_type": "stream",
     "text": [
      "https://timesofindia.indiatimes.com/life-style/health-fitness/health-news/colon-cancer-or-bowel-cancer-know-the-early-symptoms-for-timely-intervention/photostory/89252113.cms 82 88\n"
     ]
    }
   ],
   "source": [
    "precision_traf = []\n",
    "recall_traf = []\n",
    "\n",
    "for aN, uRL in zip(df.article_number, df.url):\n",
    "    if aN > 0:\n",
    "        #downloaded = trafilatura.fetch_url(uRL)\n",
    "        response = requests.get(uRL, headers=headers)\n",
    "        if response.status_code == 200:\n",
    "            downloaded = response.content\n",
    "            txt = trafilatura.extract(downloaded, include_formatting = True, output_format='xml')\n",
    "            #txt = trafilatura.extract(downloaded)\n",
    "            with open(\"colon_cancer_news_articles/news_articles/{}.txt\".format(aN),encoding=\"utf-8\") as f:\n",
    "                doc = f.read()\n",
    "            ptemp = fuzz.ratio(txt,doc)\n",
    "            rtemp = fuzz.partial_ratio(txt,doc)\n",
    "            print(uRL, ptemp , rtemp )\n",
    "            precision_traf.append(ptemp)\n",
    "            recall_traf.append(rtemp)\n",
    "            break"
   ]
  },
  {
   "cell_type": "code",
   "execution_count": 17,
   "metadata": {},
   "outputs": [],
   "source": [
    "from bs4 import BeautifulSoup"
   ]
  },
  {
   "cell_type": "code",
   "execution_count": 24,
   "metadata": {},
   "outputs": [],
   "source": []
  },
  {
   "cell_type": "code",
   "execution_count": 25,
   "metadata": {},
   "outputs": [
    {
     "data": {
      "text/plain": [
       "'<doc sitename=\"Times of India\" title=\"Colon cancer or bowel cancer: Know the early symptoms for timely intervention | The Times of India\" date=\"2022-02-01\" source=\"https://timesofindia.indiatimes.com/life-style/health-fitness/health-news/colon-cancer-or-bowel-cancer-know-the-early-symptoms-for-timely-intervention/photostory/89252113.cms\" hostname=\"indiatimes.com\" excerpt=\"Cancer in bowel or the colorectal portion of the body which comprises the colon or the rectum is one of the common cancers in human beings. In this case there is abnormal growth of cells or polyps in the colon area.\" categories=\"\" tags=\"The Times of India: Latest News India, World &amp; Business News, Cricket &amp; Sports, Bollywood\" fingerprint=\"8CaMNTjxOnxB7HiePn8iG5qEHIk=\">\\n  <main>\\n    <head rend=\"h3\">01/5Early diagnosis is essential</head>\\n    <p>A completely emptied bowel is considered to be a healthy bowel. With keeping waste out of the body the bowel serves a major role in the smooth functioning of an individual and as is inevitable an unhealthy bowel movement can lead to several complications. What is noteworthy is that the bowel movement of a human body is quite sensitive to the type of food that one consumes, the type of environment in which one lives and the intake of water. So very often, we tend to disturb the bowel movement and learn to live with it.</p>\\n    <p>Cancer in bowel or the colorectal portion of the body which comprises the colon or the rectum is one of the common cancers in human beings. In this case there is abnormal growth of cells or polyps in the colon area.</p>\\n    <head rend=\"h3\">02/5Colon cancer or hemmorhoids?</head>\\n    <p>It is often confused with hemorrhoids. Hemorrhoids and colon cancer are the two most commonly occuring complications which are directly associated with bowel movement. Occurence of these complications affect the bowel movement and overall health of the bowel to a large extent.</p>\\n    <p>It is very crucial to understand the symptoms associated with both these complications.</p>\\n    <p>Hemorrhoids are swollen and enlarged veins in the lower part of rectum and anus. There are three types of hemorrhoids: internal, external and thrombosed.</p>\\n    <p>Worldwide colon cancer is the third most common cancer among men and second most common cancer in women and in India it is among the top 5 commonly occurring cancers.</p>\\n    <head rend=\"h3\">03/5Colon cancer and hemorrhoids have similar symptoms</head>\\n    <p>Any disturbance in the normal functioning of the body disturbs the bowel movement. While there are many other medical conditions that would give you the feeling of not having emptied the bowel properly, this is also a major indication of the presence of hemorrhoids or the development of colon cancer.</p>\\n    <p>In both hemorrhoids and colon cancer there is rectal bleeding, blood in the stool and the feeling of not having emptied the bowel.</p>\\n    <head rend=\"h3\">04/5Colon cancer symptoms which are different from hemorrhoids</head>\\n    <p>Though unfortunately cancer is detectable only after certain progression in the disease, there are certain symptoms which are very specific to colon cancer. These symptoms are: change in the frequency of bowel movement, pain due to bowel obstruction, sudden nausea, sudden vomiting, drop in weight, narrow or ribbon like stool, pain in the rectum area.</p>\\n    <p>Rectal bleeding can be compared to differentiate colon cancer from hemorrhoids. If the blood is red it is most likely that it is hemorrhoid; dark blood is an indication that the bleeding is from within the body.</p>\\n    <p>Abdominal pain is a major symptom of colon cancer. Hemorrhoids do not cause pain in the abdomen.</p>\\n    <p>Fatigue is also a common sign of cancer. Bleeding in the intestinal tract will cause loss of blood and anemia which will subsequently lead to weakness.</p>\\n    <head rend=\"h3\">05/5Is there any risk of colon cancer in patients with hemorrhoids?</head>\\n    <p>Though many researchers say that hemorrhoids do not lead to cancer, many other research studies have linked hemorrhoids with colon cancer. People with hemorrhoids should undergo a colonoscopy regularly for early detection of the cancer. </p>\\n  </main>\\n  <comments><head>closecomments</head><head>SIGN IN WITH</head>FacebookGoogleEmail</comments>\\n</doc>'"
      ]
     },
     "execution_count": 25,
     "metadata": {},
     "output_type": "execute_result"
    }
   ],
   "source": [
    "txt"
   ]
  },
  {
   "cell_type": "code",
   "execution_count": 26,
   "metadata": {},
   "outputs": [
    {
     "data": {
      "text/plain": [
       "[<head rend=\"h3\">01/5Early diagnosis is essential</head>,\n",
       " <head rend=\"h3\">02/5Colon cancer or hemmorhoids?</head>,\n",
       " <head rend=\"h3\">03/5Colon cancer and hemorrhoids have similar symptoms</head>,\n",
       " <head rend=\"h3\">04/5Colon cancer symptoms which are different from hemorrhoids</head>,\n",
       " <head rend=\"h3\">05/5Is there any risk of colon cancer in patients with hemorrhoids?</head>,\n",
       " <head>closecomments</head>,\n",
       " <head>SIGN IN WITH</head>]"
      ]
     },
     "execution_count": 26,
     "metadata": {},
     "output_type": "execute_result"
    }
   ],
   "source": [
    "soup.find_all('head')"
   ]
  },
  {
   "cell_type": "code",
   "execution_count": 9,
   "metadata": {},
   "outputs": [
    {
     "data": {
      "text/plain": [
       "97.92592592592592"
      ]
     },
     "execution_count": 9,
     "metadata": {},
     "output_type": "execute_result"
    }
   ],
   "source": [
    "np.mean(recall_traf)"
   ]
  },
  {
   "cell_type": "code",
   "execution_count": 10,
   "metadata": {},
   "outputs": [
    {
     "data": {
      "text/plain": [
       "0.9636437898032519"
      ]
     },
     "execution_count": 10,
     "metadata": {},
     "output_type": "execute_result"
    }
   ],
   "source": [
    "(2* (np.mean(precision_traf) / 100)  * (np.mean(recall_traf) / 100)) / ((np.mean(precision_traf) / 100)  + (np.mean(recall_traf) / 100))"
   ]
  },
  {
   "cell_type": "code",
   "execution_count": 32,
   "metadata": {},
   "outputs": [],
   "source": [
    "soup = BeautifulSoup(txt)"
   ]
  },
  {
   "cell_type": "code",
   "execution_count": 67,
   "metadata": {},
   "outputs": [],
   "source": [
    "\n",
    "def recursive_search(tags):\n",
    "    for child in tags.children:\n",
    "        try: \n",
    "            if len(list(child.children)) > 0:\n",
    "                recursive_search(child)\n",
    "        #Throws exception because the terminal child will be a string and have no children attribute\n",
    "        except AttributeError as e:\n",
    "            #print(e.with_traceback)\n",
    "            if child != '\\n':\n",
    "                elements.append(child)\n",
    "    #print(\"-----------------------------------------------------------------\")\n",
    "        \n"
   ]
  },
  {
   "cell_type": "code",
   "execution_count": 66,
   "metadata": {},
   "outputs": [
    {
     "name": "stdout",
     "output_type": "stream",
     "text": [
      "21\n"
     ]
    }
   ],
   "source": [
    "elements = []\n",
    "recursive_search(soup)\n",
    "print(len(elements))"
   ]
  },
  {
   "cell_type": "code",
   "execution_count": 68,
   "metadata": {},
   "outputs": [
    {
     "data": {
      "text/plain": [
       "['01/5Early diagnosis is essential',\n",
       " 'A completely emptied bowel is considered to be a healthy bowel. With keeping waste out of the body the bowel serves a major role in the smooth functioning of an individual and as is inevitable an unhealthy bowel movement can lead to several complications. What is noteworthy is that the bowel movement of a human body is quite sensitive to the type of food that one consumes, the type of environment in which one lives and the intake of water. So very often, we tend to disturb the bowel movement and learn to live with it.',\n",
       " 'Cancer in bowel or the colorectal portion of the body which comprises the colon or the rectum is one of the common cancers in human beings. In this case there is abnormal growth of cells or polyps in the colon area.',\n",
       " '02/5Colon cancer or hemmorhoids?',\n",
       " 'It is often confused with hemorrhoids. Hemorrhoids and colon cancer are the two most commonly occuring complications which are directly associated with bowel movement. Occurence of these complications affect the bowel movement and overall health of the bowel to a large extent.',\n",
       " 'It is very crucial to understand the symptoms associated with both these complications.',\n",
       " 'Hemorrhoids are swollen and enlarged veins in the lower part of rectum and anus. There are three types of hemorrhoids: internal, external and thrombosed.',\n",
       " 'Worldwide colon cancer is the third most common cancer among men and second most common cancer in women and in India it is among the top 5 commonly occurring cancers.',\n",
       " '03/5Colon cancer and hemorrhoids have similar symptoms',\n",
       " 'Any disturbance in the normal functioning of the body disturbs the bowel movement. While there are many other medical conditions that would give you the feeling of not having emptied the bowel properly, this is also a major indication of the presence of hemorrhoids or the development of colon cancer.',\n",
       " 'In both hemorrhoids and colon cancer there is rectal bleeding, blood in the stool and the feeling of not having emptied the bowel.',\n",
       " '04/5Colon cancer symptoms which are different from hemorrhoids',\n",
       " 'Though unfortunately cancer is detectable only after certain progression in the disease, there are certain symptoms which are very specific to colon cancer. These symptoms are: change in the frequency of bowel movement, pain due to bowel obstruction, sudden nausea, sudden vomiting, drop in weight, narrow or ribbon like stool, pain in the rectum area.',\n",
       " 'Rectal bleeding can be compared to differentiate colon cancer from hemorrhoids. If the blood is red it is most likely that it is hemorrhoid; dark blood is an indication that the bleeding is from within the body.',\n",
       " 'Abdominal pain is a major symptom of colon cancer. Hemorrhoids do not cause pain in the abdomen.',\n",
       " 'Fatigue is also a common sign of cancer. Bleeding in the intestinal tract will cause loss of blood and anemia which will subsequently lead to weakness.',\n",
       " '05/5Is there any risk of colon cancer in patients with hemorrhoids?',\n",
       " 'Though many researchers say that hemorrhoids do not lead to cancer, many other research studies have linked hemorrhoids with colon cancer. People with hemorrhoids should undergo a colonoscopy regularly for early detection of the cancer. ',\n",
       " 'closecomments',\n",
       " 'SIGN IN WITH',\n",
       " 'FacebookGoogleEmail']"
      ]
     },
     "execution_count": 68,
     "metadata": {},
     "output_type": "execute_result"
    }
   ],
   "source": [
    "elements"
   ]
  },
  {
   "cell_type": "code",
   "execution_count": null,
   "metadata": {},
   "outputs": [
    {
     "data": {
      "text/plain": [
       "94.14814814814815"
      ]
     },
     "execution_count": 24,
     "metadata": {},
     "output_type": "execute_result"
    }
   ],
   "source": [
    "np.mean(recall_traf)"
   ]
  },
  {
   "cell_type": "code",
   "execution_count": null,
   "metadata": {},
   "outputs": [
    {
     "name": "stdout",
     "output_type": "stream",
     "text": [
      "94 93\n",
      "95 100\n",
      "0 0\n",
      "98 99\n",
      "100 99\n",
      "97 99\n",
      "96 98\n",
      "98 100\n",
      "100 100\n",
      "90 98\n",
      "97 98\n",
      "96 98\n",
      "100 99\n",
      "84 98\n",
      "91 92\n",
      "98 98\n",
      "95 99\n",
      "96 98\n",
      "100 100\n",
      "69 94\n",
      "96 94\n",
      "97 97\n",
      "95 98\n",
      "93 98\n",
      "93 98\n",
      "97 97\n",
      "99 100\n"
     ]
    }
   ],
   "source": [
    "for p, r in zip(precision_traf,recall_traf):\n",
    "    print(p,r)"
   ]
  },
  {
   "cell_type": "code",
   "execution_count": 20,
   "metadata": {},
   "outputs": [],
   "source": [
    "from newspaper import Article"
   ]
  },
  {
   "cell_type": "code",
   "execution_count": 23,
   "metadata": {},
   "outputs": [],
   "source": []
  },
  {
   "cell_type": "code",
   "execution_count": 24,
   "metadata": {},
   "outputs": [],
   "source": []
  },
  {
   "cell_type": "code",
   "execution_count": 27,
   "metadata": {},
   "outputs": [
    {
     "data": {
      "text/plain": [
       "'Investigators expect an estimated incidence of new invasive cancers in the United States of 1,918,030, translating to 5250 new cases daily. Most common malignancies include 51,400 new cases of ductal carcinoma in situ of the breast in women, as well as 97,920 cases of melanoma in situ of the skin. The most diagnosed cancers in men are estimated to be prostate (27%), lung and bronchus (12%), colon and rectum (8%), and urinary bladder (6%). 2 For women, the most diagnosed cancers are expected to be breast (31%), lung and bronchus (13%), colon and rectum (8%), and uterine corpus (7%).\\n\\nThe population-based incidence data were gathered from the Surveillance, Epidemiology, and End Results (SEER) program since 1973 and the Centers for Disease Control and Prevention’s National Program of Cancer Registries since 1995. 1 Additionally, mortality findings from 1930 through 2019 were obtained from the National Center for Health Statistics. Cases of cancer were defined by International Classification of Diseases for Oncology, except for childhood and adolescent disease.\\n\\nCancer Facts & Figures 2022 from the American Cancer Society highlights important developments and trends in cancer, including incidence, mortality, and survival by age, sex, and race. In honor of World Cancer Day, CancerNetwork® touches on some of the key highlights from the report.\\n\\nMen have a slightly higher lifetime probability of being diagnosed with invasive cancer compared with women (40.2% vs 38.5%). The reasons for this are not completely understood but could be due in part to a higher exposure to cancer-causing environments and biological factors.\\n\\nEstimates in Cancer Mortality\\n\\nAdditional estimates indicate that approximately 609,360 people in the United States will die of cancer in 2022, translating to about 1700 cancer deaths daily. Among men, most deaths are due to lung (21%), prostate (11%), and colorectal cancer (CRC; 9%); in women, most deaths are due to lung (21%), breast (15%), and CRC (8%). Over 350 patients will die of lung cancer daily, which is 2.5 time higher that CRC and leads to greater mortality than breast, prostate, and pancreatic cancer combined. It is estimated that approximately 81% of deaths related to lung cancer will be caused by direct cigarette smoking and 3650 will be attributed to second-hand smoke.\\n\\nExamining Cancer in American Indians and Alaskan Native Subgroup\\n\\nIn a special section of the report, investigators detailed specific cancer data that are unique to the United States’ population of American Indian and Alaskan Native individuals. Due to acts of “genocide, forced displacement, and relocation perpetrated by US citizens and the military,” it is reported that two-thirds of American Indian or Alaska Native individuals reside in tribal areas or surrounding regions known as Purchased/Referred Care Delivery Area (PRCDA) counties. These areas are primarily located in the Western United States and are predominantly rural vs non-PRCDA counties. Due to persisting systemic racism, this subgroup has limited access to health care, high-quality education, and economic opportunities, leaving them twice as likely to live in poverty compared with White individuals.\\n\\nNotably, cancer data by tribal affiliation are not currently available, but the report highlighted difference between PRCDA regions when available highlight the heterogeneity of cancer burden across this patient group. Incidence of cancer within this group is higher compared with the White population in several disease types, including lung, colorectal, and kidney cancers, as well as cancers if the liver, stomach, and cervix.\\n\\nNotably, risk and disparities varied significantly based on region, with lung cancer being commonly diagnosed among those within the Southwest at 16.8 individuals per 100,000—64% lower than White individuals—and 109.3 per 100,000 in the Northern Plains—80% higher than White individuals. When assessing incidence for all disease types, rates ranged from 323.2 per 100,000 in the Southwest and 666.7 per 100,000 in the Southern Plains, which were 23% lower and 49% higher vs the White population, respectively. Although incidence appeared to be more favorable for indigenous populations residing in the Eastern region compared with the White population (29% lower), this may be in part due to the White population being the highest of any PRCDA region.\\n\\nCancer within American Indians and Alaskan Natives is generally diagnosed at later stages, with breast and stomach cancers accounting for the biggest disparities. The group also had worse 5-year survival rates vs White patients across most disease types. For example, the 5-year survival rate for patients with stomach cancer is 19% for American Indian and Alaskan Native patients compared with 32% for White patients. Further, the disparities are likely to be underestimated due to racial misclassification and other biases. The later diagnosis and lower survival can likely be attributed to less accessible high-quality health care and hurdles to diagnostics and treatment.\\n\\nOther Racial Disparities in Cancer\\n\\nAlthough cancer incidence is higher in the White population—which may be attributed to an overdiagnosis of breast cancer—Black men had the highest sex-specific incidence, which was 79% higher than Asian and Pacific Islander and 6% higher than White men from 2014 to 2018.Moreover, White women appeared to have the highest incidence of cancer from 2013 to 2018, which was 9% higher than in Black women despite this group having higher mortality by 12%. Interestingly, despite having a 4% lower incidence, Black women have a 41% higher mortality from breast cancer vs White women. Black men share similar disparities in cancer mortality, at more than double the rate of Asian and Pacific Islander patients and 19% higher than White male patients.\\n\\nDespite the gap in disparities appearing significant, investigators note that Black/White disparities in mortality have decreased from 33% in 1993 to 14% in 2019.\\n\\nReferences'"
      ]
     },
     "execution_count": 27,
     "metadata": {},
     "output_type": "execute_result"
    }
   ],
   "source": []
  },
  {
   "cell_type": "code",
   "execution_count": null,
   "metadata": {},
   "outputs": [],
   "source": []
  },
  {
   "cell_type": "code",
   "execution_count": 31,
   "metadata": {},
   "outputs": [
    {
     "name": "stdout",
     "output_type": "stream",
     "text": [
      "[]\n",
      "https://timesofindia.indiatimes.com/life-style/health-fitness/health-news/colon-cancer-or-bowel-cancer-know-the-early-symptoms-for-timely-intervention/photostory/89252113.cms 39 100\n",
      "['Jill Murphy', 'Associate Editor']\n",
      "https://www.pharmacytimes.com/view/study-weight-loss-reduces-risk-of-growths-linked-to-colorectal-cancer 66 100\n",
      "['Jan.', 'At P.M.']\n",
      "https://www.usnews.com/news/health-news/articles/2022-01-31/late-stage-colon-cancers-increasing-among-young-americans 99 99\n",
      "[]\n",
      "https://nyulangone.org/news/genetic-lifestyle-calculator-reveals-which-younger-adults-are-most-risk-colorectal-cancer 99 99\n",
      "['Scott Gleeson']\n",
      "https://eu.usatoday.com/story/news/health/2022/01/27/colon-cancer-more-younger-adults-study/9237429002/ 97 98\n",
      "['Amy Norton Healthday Reporter']\n",
      "https://www.upi.com/Health_News/2022/02/01/colon-cancers-young-Americans/5161643655656/ 96 97\n",
      "['Jocelyn Solis-Moreira', 'February']\n",
      "https://www.health.com/condition/colorectal-cancer/late-stage-colorectal-cancer-young-adults-rise 99 98\n",
      "['Abc News', 'Vanya Jain', 'January']\n",
      "https://abcnews.go.com/Health/young-people-colon-cancer-high-rates-doctors-highlight/story?id=82468484 96 98\n",
      "['Keith Roach']\n",
      "https://eu.detroitnews.com/story/life/advice/2022/02/01/keith-roach-balance-age-family-history-colon-cancer-screening/49746735/ 100 100\n",
      "[]\n",
      "https://www.newswise.com/articles/international-study-of-colorectal-cancer-receives-five-year-renewal-10-million-in-new-funding-to-continue-innovative-research 90 98\n",
      "['Brian P. Dunleavy']\n",
      "https://www.upi.com/Health_News/2022/02/01/obese-colon-polyps-risk-study/7821643722449/ 96 97\n",
      "[]\n",
      "https://www.medicinenet.com/script/main/art.asp?articlekey=270639 79 97\n",
      "[]\n",
      "https://www.bbc.com/news/health-60216285 15 100\n",
      "['Elizabeth Pratt', 'Learn About Our', 'Editorial Process', 'Medical Review Board']\n",
      "https://www.verywellhealth.com/ulcerative-colitis-and-colon-cancer-5204560 95 92\n",
      "['Hannah Rooke']\n",
      "https://www.digitalcameraworld.com/news/2000-patients-screened-for-bowel-cancer-with-pillcam-the-camera-you-swallow 90 92\n",
      "[]\n",
      "https://telanganatoday.com/world-cancer-day-2022-how-a-fibre-rich-diet-can-help-prevent-colon-cancer 99 100\n",
      "['Mark Strassmann', 'Mark Strassmann Has Been A Cbs News Correspondent Since January', 'Is Based In The Atlanta Bureau.']\n",
      "https://www.cbsnews.com/news/chemotherapy-care-box-cancer-patients-fighting-with-hope-emily-king/ 95 99\n",
      "['Analysis']\n",
      "https://www.healthleadersmedia.com/clinical-care/screening-rates-breast-cervical-and-colon-cancer-remain-below-pre-pandemic-levels 98 99\n",
      "['Washington Post']\n",
      "https://www.sandiegouniontribune.com/news/health/story/2022-01-25/treat-colon-cancer-screening-as-if-your-life-depends-on-it-it-just-might 99 100\n",
      "[]\n",
      "https://abc7chicago.com/signs-of-colon-cancer-screening-symptoms-american-society/11469623/ 93 94\n",
      "['Alek Korab', 'Heather Newgen']\n",
      "https://www.eatthis.com/news-major-sign-cancer-doctor/ 95 93\n",
      "['Julia Musto', 'Julia Musto Is A Reporter For Fox News Digital. You Can Find Her On Twitter At']\n",
      "https://www.foxnews.com/health/distant-stage-colon-cancer-younger-adults 96 97\n",
      "['Ryan Lawrence']\n",
      "https://www.healio.com/news/hematology-oncology/20220128/weight-loss-during-systemic-therapy-linked-to-shorter-survival-in-colorectal-cancer 81 94\n",
      "[]\n",
      "https://www.news18.com/news/lifestyle/uttarakhand-researchers-to-study-use-of-medicinal-herbs-for-treatment-of-colon-cancer-4730933.html 93 98\n",
      "['Amy Donohoe', 'Image', 'Gall_Tamara']\n",
      "https://www.dublinlive.ie/news/dublin-news/mater-hospital-perform-major-medical-22917193 93 95\n",
      "['Denis Campbell']\n",
      "https://www.theguardian.com/society/2022/feb/03/cancer-england-survival-statistics-increases-nhs 97 97\n",
      "['Hayley Virgil']\n",
      "https://www.cancernetwork.com/view/american-cancer-society-report-sheds-light-on-cancer-statistics-and-racial-ethnic-disparities 88 90\n"
     ]
    }
   ],
   "source": [
    "precision_np3k = []\n",
    "recall_np3k = []\n",
    "\n",
    "for aN, uRL in zip(df.article_number, df.url):\n",
    "    if aN != 0:\n",
    "        article = Article(uRL)\n",
    "        article.download()\n",
    "        article.parse()\n",
    "        txt = article.text\n",
    "        print(article.authors)\n",
    "        with open(\"colon_cancer_news_articles/news_articles/{}.txt\".format(aN),encoding=\"utf-8\") as f:\n",
    "            doc = f.read()\n",
    "        ptemp = fuzz.ratio(txt,doc)\n",
    "        rtemp = fuzz.partial_ratio(txt,doc)\n",
    "        print(uRL, ptemp , rtemp )\n",
    "        precision_np3k.append(ptemp)\n",
    "        recall_np3k.append(rtemp)"
   ]
  },
  {
   "cell_type": "code",
   "execution_count": 29,
   "metadata": {},
   "outputs": [
    {
     "data": {
      "text/plain": [
       "88.25925925925925"
      ]
     },
     "execution_count": 29,
     "metadata": {},
     "output_type": "execute_result"
    }
   ],
   "source": [
    "np.mean(precision_np3k)\n"
   ]
  },
  {
   "cell_type": "code",
   "execution_count": 30,
   "metadata": {},
   "outputs": [
    {
     "data": {
      "text/plain": [
       "97.07407407407408"
      ]
     },
     "execution_count": 30,
     "metadata": {},
     "output_type": "execute_result"
    }
   ],
   "source": [
    "np.mean(recall_np3k)"
   ]
  },
  {
   "cell_type": "code",
   "execution_count": 69,
   "metadata": {},
   "outputs": [],
   "source": [
    "import nltk"
   ]
  },
  {
   "cell_type": "code",
   "execution_count": 72,
   "metadata": {},
   "outputs": [
    {
     "data": {
      "text/plain": [
       "['One word.', 'Two Words']"
      ]
     },
     "execution_count": 72,
     "metadata": {},
     "output_type": "execute_result"
    }
   ],
   "source": []
  },
  {
   "cell_type": "code",
   "execution_count": null,
   "metadata": {},
   "outputs": [],
   "source": []
  }
 ],
 "metadata": {
  "interpreter": {
   "hash": "3a84e8ecf7c0551919ffa5f2ac088c18eb38e29cfa06c3e87bedf52441ab1712"
  },
  "kernelspec": {
   "display_name": "Python 3.8.3 64-bit ('base': conda)",
   "language": "python",
   "name": "python3"
  },
  "language_info": {
   "codemirror_mode": {
    "name": "ipython",
    "version": 3
   },
   "file_extension": ".py",
   "mimetype": "text/x-python",
   "name": "python",
   "nbconvert_exporter": "python",
   "pygments_lexer": "ipython3",
   "version": "3.8.3"
  },
  "orig_nbformat": 4
 },
 "nbformat": 4,
 "nbformat_minor": 2
}
