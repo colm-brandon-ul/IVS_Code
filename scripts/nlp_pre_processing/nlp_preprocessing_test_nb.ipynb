{
 "cells": [
  {
   "cell_type": "code",
   "execution_count": 1,
   "metadata": {},
   "outputs": [],
   "source": [
    "from website_parser import get_website"
   ]
  },
  {
   "cell_type": "code",
   "execution_count": 2,
   "metadata": {},
   "outputs": [],
   "source": [
    "from website_parser.information_extraction import information_extraction"
   ]
  },
  {
   "cell_type": "code",
   "execution_count": 3,
   "metadata": {},
   "outputs": [],
   "source": [
    "url = 'https://www.thebrighterside.news/post/innovation-generates-1-000x-more-voltage-from-solar-cells'"
   ]
  },
  {
   "cell_type": "code",
   "execution_count": 4,
   "metadata": {},
   "outputs": [],
   "source": [
    "gW = get_website.Get_Website(url)"
   ]
  },
  {
   "cell_type": "code",
   "execution_count": 5,
   "metadata": {},
   "outputs": [],
   "source": [
    "res = gW.get_website()"
   ]
  },
  {
   "cell_type": "code",
   "execution_count": 6,
   "metadata": {},
   "outputs": [
    {
     "data": {
      "text/plain": [
       "dict_keys(['status_code', 'content'])"
      ]
     },
     "execution_count": 6,
     "metadata": {},
     "output_type": "execute_result"
    }
   ],
   "source": [
    "res.keys()"
   ]
  },
  {
   "cell_type": "code",
   "execution_count": 7,
   "metadata": {},
   "outputs": [],
   "source": [
    "iE = information_extraction.Information_Extraction(\n",
    "    url = res['content']['url'],\n",
    "    html = res\n",
    ")"
   ]
  },
  {
   "cell_type": "code",
   "execution_count": 8,
   "metadata": {},
   "outputs": [],
   "source": [
    "data = iE.extract_information()"
   ]
  },
  {
   "cell_type": "code",
   "execution_count": 9,
   "metadata": {},
   "outputs": [],
   "source": [
    "import nlp_pre_processing.tokenization as tokenization"
   ]
  },
  {
   "cell_type": "code",
   "execution_count": 10,
   "metadata": {},
   "outputs": [],
   "source": [
    "tkn = tokenization.Tokenization(sentence_map=data['content']['natural_language_data']['content']['sentence_map'])"
   ]
  },
  {
   "cell_type": "code",
   "execution_count": 11,
   "metadata": {},
   "outputs": [],
   "source": [
    "tkns = tkn.tokenize_sentence_map()"
   ]
  },
  {
   "cell_type": "code",
   "execution_count": 12,
   "metadata": {},
   "outputs": [],
   "source": [
    "import nlp_pre_processing.token_cleaning as token_cleaning"
   ]
  },
  {
   "cell_type": "code",
   "execution_count": 13,
   "metadata": {},
   "outputs": [],
   "source": [
    "tkCln = token_cleaning.Token_Cleaning(token_map=tkns['content']['token_map'])"
   ]
  },
  {
   "cell_type": "code",
   "execution_count": 14,
   "metadata": {},
   "outputs": [],
   "source": [
    "clean_tokens = tkCln.remove_punctutation()"
   ]
  },
  {
   "cell_type": "code",
   "execution_count": 15,
   "metadata": {},
   "outputs": [
    {
     "data": {
      "text/plain": [
       "dict_keys(['status_code', 'content'])"
      ]
     },
     "execution_count": 15,
     "metadata": {},
     "output_type": "execute_result"
    }
   ],
   "source": [
    "clean_tokens.keys()"
   ]
  },
  {
   "cell_type": "code",
   "execution_count": 16,
   "metadata": {},
   "outputs": [
    {
     "data": {
      "text/plain": [
       "{'0.0': {2: {'token': '1,000x',\n",
       "   'type_of_edit': 'removal_of_intra_word_punctuation'}},\n",
       " '1.0': {0: {'token': '[',\n",
       "   'type_of_edit': 'removal_of_inter_word_punctuation'},\n",
       "  2: {'token': ',', 'type_of_edit': 'removal_of_inter_word_punctuation'},\n",
       "  3: {'token': ':', 'type_of_edit': 'removal_of_inter_word_punctuation'},\n",
       "  5: {'token': ',', 'type_of_edit': 'removal_of_inter_word_punctuation'},\n",
       "  7: {'token': ']', 'type_of_edit': 'removal_of_inter_word_punctuation'}},\n",
       " '2.0': {7: {'token': ';',\n",
       "   'type_of_edit': 'removal_of_inter_word_punctuation'},\n",
       "  8: {'token': ',', 'type_of_edit': 'removal_of_inter_word_punctuation'},\n",
       "  12: {'token': '.', 'type_of_edit': 'removal_of_inter_word_punctuation'}},\n",
       " '2.1': {0: {'token': '(',\n",
       "   'type_of_edit': 'removal_of_inter_word_punctuation'},\n",
       "  1: {'token': ':', 'type_of_edit': 'removal_of_inter_word_punctuation'},\n",
       "  3: {'token': ')', 'type_of_edit': 'removal_of_inter_word_punctuation'}},\n",
       " '3.0': {13: {'token': '1,000',\n",
       "   'type_of_edit': 'removal_of_intra_word_punctuation'},\n",
       "  24: {'token': '.', 'type_of_edit': 'removal_of_inter_word_punctuation'}},\n",
       " '3.1': {14: {'token': '(',\n",
       "   'type_of_edit': 'removal_of_inter_word_punctuation'},\n",
       "  15: {'token': '.', 'type_of_edit': 'removal_of_inter_word_punctuation'}},\n",
       " '3.2': {10: {'token': ',',\n",
       "   'type_of_edit': 'removal_of_inter_word_punctuation'},\n",
       "  24: {'token': '.', 'type_of_edit': 'removal_of_inter_word_punctuation'}},\n",
       " '3.3': {2: {'token': ',',\n",
       "   'type_of_edit': 'removal_of_inter_word_punctuation'},\n",
       "  11: {'token': ',', 'type_of_edit': 'removal_of_inter_word_punctuation'},\n",
       "  20: {'token': '.', 'type_of_edit': 'removal_of_inter_word_punctuation'}},\n",
       " '4.0': {7: {'token': ';',\n",
       "   'type_of_edit': 'removal_of_inter_word_punctuation'},\n",
       "  8: {'token': ',', 'type_of_edit': 'removal_of_inter_word_punctuation'},\n",
       "  12: {'token': '.', 'type_of_edit': 'removal_of_inter_word_punctuation'}},\n",
       " '4.1': {8: {'token': ',',\n",
       "   'type_of_edit': 'removal_of_inter_word_punctuation'},\n",
       "  14: {'token': ',', 'type_of_edit': 'removal_of_inter_word_punctuation'},\n",
       "  22: {'token': '.', 'type_of_edit': 'removal_of_inter_word_punctuation'}},\n",
       " '4.2': {13: {'token': ',',\n",
       "   'type_of_edit': 'removal_of_inter_word_punctuation'},\n",
       "  28: {'token': '.', 'type_of_edit': 'removal_of_inter_word_punctuation'}},\n",
       " '4.3': {17: {'token': '.',\n",
       "   'type_of_edit': 'removal_of_inter_word_punctuation'}},\n",
       " '4.4': {2: {'token': ',',\n",
       "   'type_of_edit': 'removal_of_inter_word_punctuation'},\n",
       "  16: {'token': ',', 'type_of_edit': 'removal_of_inter_word_punctuation'},\n",
       "  19: {'token': ',', 'type_of_edit': 'removal_of_inter_word_punctuation'},\n",
       "  25: {'token': '.', 'type_of_edit': 'removal_of_inter_word_punctuation'}},\n",
       " '4.5': {10: {'token': '.',\n",
       "   'type_of_edit': 'removal_of_inter_word_punctuation'}},\n",
       " '5.0': {1: {'token': ',',\n",
       "   'type_of_edit': 'removal_of_inter_word_punctuation'},\n",
       "  16: {'token': '.', 'type_of_edit': 'removal_of_inter_word_punctuation'}},\n",
       " '5.1': {19: {'token': '.',\n",
       "   'type_of_edit': 'removal_of_inter_word_punctuation'}},\n",
       " '5.2': {16: {'token': '.',\n",
       "   'type_of_edit': 'removal_of_inter_word_punctuation'}},\n",
       " '5.3': {8: {'token': ',',\n",
       "   'type_of_edit': 'removal_of_inter_word_punctuation'},\n",
       "  15: {'token': ',', 'type_of_edit': 'removal_of_inter_word_punctuation'},\n",
       "  28: {'token': ',', 'type_of_edit': 'removal_of_inter_word_punctuation'},\n",
       "  31: {'token': '.', 'type_of_edit': 'removal_of_inter_word_punctuation'}},\n",
       " '6.0': {21: {'token': ',',\n",
       "   'type_of_edit': 'removal_of_inter_word_punctuation'},\n",
       "  27: {'token': '.', 'type_of_edit': 'removal_of_inter_word_punctuation'}},\n",
       " '6.1': {2: {'token': ',',\n",
       "   'type_of_edit': 'removal_of_inter_word_punctuation'},\n",
       "  13: {'token': ',', 'type_of_edit': 'removal_of_inter_word_punctuation'},\n",
       "  14: {'token': ':', 'type_of_edit': 'removal_of_inter_word_punctuation'},\n",
       "  26: {'token': '.', 'type_of_edit': 'removal_of_inter_word_punctuation'}},\n",
       " '6.2': {17: {'token': '.',\n",
       "   'type_of_edit': 'removal_of_inter_word_punctuation'}},\n",
       " '6.3': {14: {'token': '.',\n",
       "   'type_of_edit': 'removal_of_inter_word_punctuation'}},\n",
       " '10.0': {2: {'token': ',',\n",
       "   'type_of_edit': 'removal_of_inter_word_punctuation'}},\n",
       " '11.0': {4: {'token': ',',\n",
       "   'type_of_edit': 'removal_of_inter_word_punctuation'},\n",
       "  10: {'token': '.', 'type_of_edit': 'removal_of_inter_word_punctuation'}},\n",
       " '11.1': {0: {'token': '(',\n",
       "   'type_of_edit': 'removal_of_inter_word_punctuation'},\n",
       "  1: {'token': ':', 'type_of_edit': 'removal_of_inter_word_punctuation'},\n",
       "  3: {'token': '/', 'type_of_edit': 'removal_of_inter_word_punctuation'},\n",
       "  5: {'token': ')', 'type_of_edit': 'removal_of_inter_word_punctuation'}},\n",
       " '12.0': {5: {'token': ',',\n",
       "   'type_of_edit': 'removal_of_inter_word_punctuation'},\n",
       "  13: {'token': '.', 'type_of_edit': 'removal_of_inter_word_punctuation'}},\n",
       " '12.1': {7: {'token': ':',\n",
       "   'type_of_edit': 'removal_of_inter_word_punctuation'},\n",
       "  16: {'token': ',', 'type_of_edit': 'removal_of_inter_word_punctuation'},\n",
       "  22: {'token': '1,000', 'type_of_edit': 'removal_of_intra_word_punctuation'},\n",
       "  48: {'token': '.', 'type_of_edit': 'removal_of_inter_word_punctuation'}},\n",
       " '13.0': {19: {'token': ',',\n",
       "   'type_of_edit': 'removal_of_inter_word_punctuation'},\n",
       "  36: {'token': ',', 'type_of_edit': 'removal_of_inter_word_punctuation'},\n",
       "  40: {'token': '.', 'type_of_edit': 'removal_of_inter_word_punctuation'}},\n",
       " '13.1': {10: {'token': ':',\n",
       "   'type_of_edit': 'removal_of_inter_word_punctuation'},\n",
       "  18: {'token': '.', 'type_of_edit': 'removal_of_inter_word_punctuation'}},\n",
       " '14.0': {16: {'token': '.',\n",
       "   'type_of_edit': 'removal_of_inter_word_punctuation'}},\n",
       " '14.1': {20: {'token': '.',\n",
       "   'type_of_edit': 'removal_of_inter_word_punctuation'}},\n",
       " '14.2': {15: {'token': '.',\n",
       "   'type_of_edit': 'removal_of_inter_word_punctuation'}},\n",
       " '14.3': {13: {'token': '.',\n",
       "   'type_of_edit': 'removal_of_inter_word_punctuation'}},\n",
       " '17.0': {0: {'token': '.',\n",
       "   'type_of_edit': 'removal_of_inter_word_punctuation'}},\n",
       " '18.0': {1: {'token': ':',\n",
       "   'type_of_edit': 'removal_of_inter_word_punctuation'},\n",
       "  7: {'token': '.', 'type_of_edit': 'removal_of_inter_word_punctuation'}},\n",
       " '18.1': {8: {'token': '.',\n",
       "   'type_of_edit': 'removal_of_inter_word_punctuation'}},\n",
       " '19.0': {7: {'token': '?',\n",
       "   'type_of_edit': 'removal_of_inter_word_punctuation'}},\n",
       " '21.0': {0: {'token': '.',\n",
       "   'type_of_edit': 'removal_of_inter_word_punctuation'}},\n",
       " '22.0': {1: {'token': ':',\n",
       "   'type_of_edit': 'removal_of_inter_word_punctuation'},\n",
       "  3: {'token': ',', 'type_of_edit': 'removal_of_inter_word_punctuation'},\n",
       "  5: {'token': ',', 'type_of_edit': 'removal_of_inter_word_punctuation'},\n",
       "  7: {'token': ',', 'type_of_edit': 'removal_of_inter_word_punctuation'},\n",
       "  9: {'token': ',', 'type_of_edit': 'removal_of_inter_word_punctuation'},\n",
       "  11: {'token': ',', 'type_of_edit': 'removal_of_inter_word_punctuation'},\n",
       "  13: {'token': ',', 'type_of_edit': 'removal_of_inter_word_punctuation'},\n",
       "  15: {'token': ',', 'type_of_edit': 'removal_of_inter_word_punctuation'}}}"
      ]
     },
     "execution_count": 16,
     "metadata": {},
     "output_type": "execute_result"
    }
   ],
   "source": [
    "clean_tokens['content']['edit_map']"
   ]
  },
  {
   "cell_type": "code",
   "execution_count": 56,
   "metadata": {},
   "outputs": [
    {
     "name": "stdout",
     "output_type": "stream",
     "text": [
      "`` Science Advances ''\n",
      "\n",
      "`` Ferroelectric means that the material has spatially separated positive and negative charges ''\n",
      "\n",
      "`` The charge separation leads to an asymmetric structure that enables electricity to be generated from light ''\n",
      "\n",
      "`` The important thing here is that a ferroelectric material is alternated with a paraelectric material . Although the latter does not have separated charges it can become ferroelectric under certain conditions for example at low temperatures or when its chemical structure is slightly modified ''\n",
      "\n",
      "`` We embedded the barium titanate between strontium titanate and calcium titanate . This was achieved by vaporising the crystals with a high-power laser and redepositing them on carrier substrates . This produced a material made of 500 layers that is about 200 nanometres thick ''\n",
      "\n",
      "`` The interaction between the lattice layers appears to lead to a much higher permittivity - in other words the electrons are able to flow much more easily due to the excitation by the light photons ''\n",
      "\n",
      "`` The layer structure shows a higher yield in all temperature ranges than pure ferroelectrics . The crystals are also significantly more durable and do not require special packaging ''\n",
      "\n"
     ]
    }
   ],
   "source": [
    "\n",
    "    \n",
    "\n",
    "    "
   ]
  }
 ],
 "metadata": {
  "interpreter": {
   "hash": "40d3a090f54c6569ab1632332b64b2c03c39dcf918b08424e98f38b5ae0af88f"
  },
  "kernelspec": {
   "display_name": "Python 3.9.7 ('base')",
   "language": "python",
   "name": "python3"
  },
  "language_info": {
   "codemirror_mode": {
    "name": "ipython",
    "version": 3
   },
   "file_extension": ".py",
   "mimetype": "text/x-python",
   "name": "python",
   "nbconvert_exporter": "python",
   "pygments_lexer": "ipython3",
   "version": "3.9.7"
  },
  "orig_nbformat": 4
 },
 "nbformat": 4,
 "nbformat_minor": 2
}
